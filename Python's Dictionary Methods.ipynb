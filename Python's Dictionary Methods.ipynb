{
 "cells": [
  {
   "cell_type": "markdown",
   "metadata": {},
   "source": [
    "Khalid Imran PIAIC57035-Islamabad"
   ]
  },
  {
   "cell_type": "markdown",
   "metadata": {},
   "source": [
    "# Python's Dictionary Methods"
   ]
  },
  {
   "cell_type": "markdown",
   "metadata": {},
   "source": [
    "In python dictionary is immutable, unordered, changeable and indexed. Dictionaries are written with curly brackets and have keys and values."
   ]
  },
  {
   "cell_type": "code",
   "execution_count": 2,
   "metadata": {},
   "outputs": [
    {
     "data": {
      "text/plain": [
       "['__class__',\n",
       " '__contains__',\n",
       " '__delattr__',\n",
       " '__delitem__',\n",
       " '__dir__',\n",
       " '__doc__',\n",
       " '__eq__',\n",
       " '__format__',\n",
       " '__ge__',\n",
       " '__getattribute__',\n",
       " '__getitem__',\n",
       " '__gt__',\n",
       " '__hash__',\n",
       " '__init__',\n",
       " '__init_subclass__',\n",
       " '__iter__',\n",
       " '__le__',\n",
       " '__len__',\n",
       " '__lt__',\n",
       " '__ne__',\n",
       " '__new__',\n",
       " '__reduce__',\n",
       " '__reduce_ex__',\n",
       " '__repr__',\n",
       " '__setattr__',\n",
       " '__setitem__',\n",
       " '__sizeof__',\n",
       " '__str__',\n",
       " '__subclasshook__',\n",
       " 'clear',\n",
       " 'copy',\n",
       " 'fromkeys',\n",
       " 'get',\n",
       " 'items',\n",
       " 'keys',\n",
       " 'pop',\n",
       " 'popitem',\n",
       " 'setdefault',\n",
       " 'update',\n",
       " 'values']"
      ]
     },
     "execution_count": 2,
     "metadata": {},
     "output_type": "execute_result"
    }
   ],
   "source": [
    "dir(dict)"
   ]
  },
  {
   "cell_type": "markdown",
   "metadata": {},
   "source": [
    "# Clear"
   ]
  },
  {
   "cell_type": "code",
   "execution_count": 6,
   "metadata": {},
   "outputs": [
    {
     "name": "stdout",
     "output_type": "stream",
     "text": [
      "{}\n"
     ]
    }
   ],
   "source": [
    "food = {\"fruit\" : \"apple\", \"vegi\" : \"tomato\", \"price\" : \"150\"}\n",
    "\n",
    "food.clear()\n",
    "\n",
    "print(food)"
   ]
  },
  {
   "cell_type": "markdown",
   "metadata": {},
   "source": [
    "# Copy"
   ]
  },
  {
   "cell_type": "code",
   "execution_count": 8,
   "metadata": {},
   "outputs": [
    {
     "name": "stdout",
     "output_type": "stream",
     "text": [
      "{'fruit': 'apple', 'vegi': 'tomato', 'price': '150'}\n"
     ]
    }
   ],
   "source": [
    "food = {\"fruit\" : \"apple\", \"vegi\" : \"tomato\", \"price\" : \"150\"}\n",
    "\n",
    "a = food.copy()\n",
    "\n",
    "print(a)"
   ]
  },
  {
   "cell_type": "markdown",
   "metadata": {},
   "source": [
    "# fromkeys"
   ]
  },
  {
   "cell_type": "code",
   "execution_count": 12,
   "metadata": {},
   "outputs": [
    {
     "name": "stdout",
     "output_type": "stream",
     "text": [
      "{'key2': 2, 'key1': 2, 'key3': 2}\n"
     ]
    }
   ],
   "source": [
    "food_1 = {\"key1\", \"key2\", \"key3\"}\n",
    "\n",
    "food_2 = 2\n",
    "\n",
    "a_dict = dict.fromkeys(food_1, food_2)\n",
    "\n",
    "print(a_dict)"
   ]
  },
  {
   "cell_type": "markdown",
   "metadata": {},
   "source": [
    "# get : returns the value of specified key"
   ]
  },
  {
   "cell_type": "code",
   "execution_count": 13,
   "metadata": {},
   "outputs": [
    {
     "name": "stdout",
     "output_type": "stream",
     "text": [
      "150\n"
     ]
    }
   ],
   "source": [
    "food = {\"fruit\" : \"apple\", \"vegi\" : \"tomato\", \"price\" : \"150\"}\n",
    "\n",
    "a = food.get(\"price\")\n",
    "\n",
    "print(a)"
   ]
  },
  {
   "cell_type": "markdown",
   "metadata": {},
   "source": [
    "# items"
   ]
  },
  {
   "cell_type": "code",
   "execution_count": 15,
   "metadata": {},
   "outputs": [
    {
     "name": "stdout",
     "output_type": "stream",
     "text": [
      "dict_items([('fruit', 'apple'), ('vegi', 'tomato'), ('price', '150')])\n"
     ]
    }
   ],
   "source": [
    "food = {\"fruit\" : \"apple\", \"vegi\" : \"tomato\", \"price\" : \"150\"}\n",
    "\n",
    "a = food.items()\n",
    "\n",
    "print(a)"
   ]
  },
  {
   "cell_type": "markdown",
   "metadata": {},
   "source": [
    "# key: returns the list of specified keys in dictionary"
   ]
  },
  {
   "cell_type": "code",
   "execution_count": 18,
   "metadata": {},
   "outputs": [
    {
     "name": "stdout",
     "output_type": "stream",
     "text": [
      "dict_keys(['fruit', 'vegi', 'price'])\n"
     ]
    }
   ],
   "source": [
    "food = {\"fruit\" : \"apple\", \"vegi\" : \"tomato\", \"price\" : \"150\"}\n",
    "\n",
    "a = food.keys()\n",
    "\n",
    "print(a)"
   ]
  },
  {
   "cell_type": "markdown",
   "metadata": {},
   "source": [
    "# pop: remove the value for the specified key in dictionary"
   ]
  },
  {
   "cell_type": "code",
   "execution_count": 20,
   "metadata": {},
   "outputs": [
    {
     "name": "stdout",
     "output_type": "stream",
     "text": [
      "{'vegi': 'tomato', 'price': '150'}\n"
     ]
    }
   ],
   "source": [
    "food = {\"fruit\" : \"apple\", \"vegi\" : \"tomato\", \"price\" : \"150\"}\n",
    "\n",
    "food.pop(\"fruit\")\n",
    "\n",
    "print(food)"
   ]
  },
  {
   "cell_type": "markdown",
   "metadata": {},
   "source": [
    "# popitem: remove the last item from the dictionary"
   ]
  },
  {
   "cell_type": "code",
   "execution_count": 21,
   "metadata": {},
   "outputs": [
    {
     "name": "stdout",
     "output_type": "stream",
     "text": [
      "{'fruit': 'apple', 'vegi': 'tomato'}\n"
     ]
    }
   ],
   "source": [
    "food = {\"fruit\" : \"apple\", \"vegi\" : \"tomato\", \"price\" : \"150\"}\n",
    "\n",
    "food.popitem()\n",
    "\n",
    "print(food)"
   ]
  },
  {
   "cell_type": "markdown",
   "metadata": {},
   "source": [
    "# setdefault"
   ]
  },
  {
   "cell_type": "code",
   "execution_count": 29,
   "metadata": {},
   "outputs": [
    {
     "name": "stdout",
     "output_type": "stream",
     "text": [
      "1kg\n",
      "{'fruit': 'apple', 'vegi': 'tomato', 'price': '150', 'qty': '1kg'}\n"
     ]
    }
   ],
   "source": [
    "food = {\"fruit\" :\"apple\", \"vegi\" : \"tomato\", \"price\" : \"150\"}\n",
    "\n",
    "a = food.setdefault(\"qty\", \"1kg\")\n",
    "\n",
    "print(a)\n",
    "\n",
    "print(food)"
   ]
  },
  {
   "cell_type": "markdown",
   "metadata": {},
   "source": [
    "# update"
   ]
  },
  {
   "cell_type": "code",
   "execution_count": 32,
   "metadata": {},
   "outputs": [
    {
     "name": "stdout",
     "output_type": "stream",
     "text": [
      "{'fruit': 'apple', 'vegi': 'tomato', 'price': '150', 'qty': '1kg'}\n"
     ]
    }
   ],
   "source": [
    "food = {\"fruit\" : \"apple\", \"vegi\" : \"tomato\", \"price\" : \"150\"}\n",
    "\n",
    "food.update({\"qty\" : \"1kg\"})\n",
    "\n",
    "print(food)"
   ]
  },
  {
   "cell_type": "markdown",
   "metadata": {},
   "source": [
    "# values: returns the values of the list"
   ]
  },
  {
   "cell_type": "code",
   "execution_count": 33,
   "metadata": {},
   "outputs": [
    {
     "name": "stdout",
     "output_type": "stream",
     "text": [
      "dict_values(['apple', 'tomato', '150'])\n"
     ]
    }
   ],
   "source": [
    "food = {\"fruit\" : \"apple\", \"vegi\" : \"tomato\", \"price\" : \"150\"}\n",
    "\n",
    "a = food.values()\n",
    "\n",
    "print(a)"
   ]
  },
  {
   "cell_type": "code",
   "execution_count": null,
   "metadata": {},
   "outputs": [],
   "source": []
  }
 ],
 "metadata": {
  "kernelspec": {
   "display_name": "Python 3",
   "language": "python",
   "name": "python3"
  },
  "language_info": {
   "codemirror_mode": {
    "name": "ipython",
    "version": 3
   },
   "file_extension": ".py",
   "mimetype": "text/x-python",
   "name": "python",
   "nbconvert_exporter": "python",
   "pygments_lexer": "ipython3",
   "version": "3.7.4"
  }
 },
 "nbformat": 4,
 "nbformat_minor": 2
}
